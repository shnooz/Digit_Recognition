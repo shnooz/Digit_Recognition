{
 "cells": [
  {
   "cell_type": "markdown",
   "metadata": {},
   "source": [
    "# Digit Recognizer using Deep Learning\n",
    "\n",
    "This project is part of the Kaggle competition. You can find more details here: https://www.kaggle.com/c/digit-recognizer#evaluation.\n",
    "But here is an introduction before I dive in:\n",
    "\n",
    "## Goal\n",
    "The goal in this competition is to take an image of a handwritten single digit, and determine what that digit is.\n",
    "For every ImageId in the test set, you should predict the correct label. \n",
    "\n",
    "## Dataset used:\n",
    "MNIST (\"Modified National Institute of Standards and Technology\") is the de facto “hello world” dataset of computer vision. Since its release in 1999, this classic dataset of handwritten images has served as the basis for benchmarking classification algorithms. As new machine learning techniques emerge, MNIST remains a reliable resource for researchers and learners alike.\n"
   ]
  },
  {
   "cell_type": "code",
   "execution_count": 49,
   "metadata": {},
   "outputs": [],
   "source": [
    "import numpy as np\n",
    "import math\n",
    "\n",
    "from sklearn.model_selection import train_test_split\n",
    "from sklearn.metrics import confusion_matrix\n",
    "import itertools\n",
    "\n",
    "from keras import layers\n",
    "from keras.layers import Input, Dense, Activation, ZeroPadding2D, BatchNormalization, Flatten, Conv2D\n",
    "from keras.layers import AveragePooling2D, MaxPooling2D, Dropout, GlobalMaxPooling2D, GlobalAveragePooling2D\n",
    "from keras.models import Model\n",
    "from keras.preprocessing import image\n",
    "from keras.utils import layer_utils\n",
    "from keras.utils.data_utils import get_file\n",
    "from keras.applications.imagenet_utils import preprocess_input\n",
    "from IPython.display import SVG\n",
    "from keras.utils.vis_utils import model_to_dot\n",
    "from keras.utils import plot_model\n",
    "\n",
    "import keras.backend as K\n",
    "K.set_image_data_format('channels_last')\n",
    "import matplotlib.pyplot as plt\n",
    "from matplotlib.pyplot import imshow\n",
    "\n",
    "import pandas as pd\n",
    "\n",
    "%matplotlib inline"
   ]
  },
  {
   "cell_type": "code",
   "execution_count": 2,
   "metadata": {},
   "outputs": [
    {
     "name": "stdout",
     "output_type": "stream",
     "text": [
      "3.6.4 |Anaconda, Inc.| (default, Mar  9 2018, 07:43:39) [MSC v.1900 64 bit (AMD64)]\n"
     ]
    }
   ],
   "source": [
    "import sys\n",
    "print(sys.version)"
   ]
  },
  {
   "cell_type": "markdown",
   "metadata": {
    "collapsed": true
   },
   "source": [
    "# Data description\n",
    "\n",
    "The data files train.csv and test.csv contain gray-scale images of hand-drawn digits, from zero through nine.\n",
    "Each image is 28 pixels in height and 28 pixels in width, for a total of 784 pixels in total. \n",
    "Each pixel has a single pixel-value associated with it, indicating the lightness or darkness of that pixel, with higher numbers meaning darker. This pixel-value is an integer between 0 and 255, inclusive.\n",
    "The training data set, (train.csv), has 785 columns. The first column, called \"label\", is the digit that was drawn by the user. The rest of the columns contain the pixel-values of the associated image.\n",
    "Each pixel column in the training set has a name like pixelx, where x is an integer between 0 and 783, inclusive. To locate this pixel on the image, suppose that we have decomposed x as x = i * 28 + j, where i and j are integers between 0 and 27, inclusive. Then pixelx is located on row i and column j of a 28 x 28 matrix, (indexing by zero).\n",
    "For example, pixel31 indicates the pixel that is in the fourth column from the left, and the second row from the top, as in the ascii-diagram below.\n",
    "\n",
    "The test data set, (test.csv), is the same as the training set, except that it does not contain the \"label\" column."
   ]
  },
  {
   "cell_type": "code",
   "execution_count": 3,
   "metadata": {},
   "outputs": [],
   "source": [
    "from numpy import genfromtxt\n",
    "train = genfromtxt('data/train.csv', delimiter=',')\n",
    "test = genfromtxt('data/test.csv', delimiter=',')"
   ]
  },
  {
   "cell_type": "markdown",
   "metadata": {},
   "source": [
    "## Data visualization\n",
    "First, lets visualize the data (you can change i to see different train images):"
   ]
  },
  {
   "cell_type": "code",
   "execution_count": 4,
   "metadata": {},
   "outputs": [
    {
     "name": "stdout",
     "output_type": "stream",
     "text": [
      "The shape of the image is: (28, 28) \n",
      "The number printed is: 8\n"
     ]
    },
    {
     "data": {
      "image/png": "[encoded data removed]",
      "text/plain": [
       "<Figure size 432x288 with 1 Axes>"
      ]
     },
     "metadata": {},
     "output_type": "display_data"
    }
   ],
   "source": [
    "i = 520\n",
    "img_ex = train[i, 1:].reshape(28,28)\n",
    "print(\"The shape of the image is:\", img_ex.shape, \"\\nThe number printed is:\", int(train[i,0]))\n",
    "imgplot = plt.imshow(img_ex,cmap='gray_r')\n"
   ]
  },
  {
   "cell_type": "markdown",
   "metadata": {},
   "source": [
    "## Data exploration:\n",
    "Now I would like to explore the data and get some insight about it.\n",
    "first let's see how big are my train and test datasets:"
   ]
  },
  {
   "cell_type": "code",
   "execution_count": 5,
   "metadata": {},
   "outputs": [
    {
     "name": "stdout",
     "output_type": "stream",
     "text": [
      "The size of the train set is: 42000\n",
      "The size of the test set is: 28000\n"
     ]
    }
   ],
   "source": [
    "print (\"The size of the train set is:\", len(train[1:,:]))\n",
    "print (\"The size of the test set is:\", len(test[1:,:]))"
   ]
  },
  {
   "cell_type": "markdown",
   "metadata": {},
   "source": [
    "Now I would like to check the train set to see how the different numbers (samples' labels) distribute. "
   ]
  },
  {
   "cell_type": "code",
   "execution_count": 29,
   "metadata": {},
   "outputs": [
    {
     "name": "stdout",
     "output_type": "stream",
     "text": [
      "[1. 0. 1. ... 7. 6. 9.] The shape of Y_train is: (42000,)\n",
      "The shape of X_train is: (42000, 784)\n"
     ]
    },
    {
     "data": {
      "text/plain": [
       "<function matplotlib.pyplot.show>"
      ]
     },
     "execution_count": 29,
     "metadata": {},
     "output_type": "execute_result"
    },
    {
     "data": {
      "image/png": "[encoded data removed]",
      "text/plain": [
       "<Figure size 432x288 with 1 Axes>"
      ]
     },
     "metadata": {},
     "output_type": "display_data"
    }
   ],
   "source": [
    "Y_train = train[1:, 0]\n",
    "X_train = train[1:, 1:]\n",
    "print(Y_train, \"The shape of Y_train is:\", Y_train.shape)\n",
    "print(\"The shape of X_train is:\", X_train.shape)\n",
    "plt.hist(Y_train, bins=10)\n",
    "plt.show"
   ]
  },
  {
   "cell_type": "markdown",
   "metadata": {},
   "source": [
    "It seems like the data is distributed pretty uniformly. Thats GOOD :)\n",
    "\n",
    "Now I would like to reshape and normalize the train and test data:"
   ]
  },
  {
   "cell_type": "code",
   "execution_count": 30,
   "metadata": {},
   "outputs": [
    {
     "name": "stdout",
     "output_type": "stream",
     "text": [
      "Now X-train shape is: (42000, 28, 28, 1)\n"
     ]
    }
   ],
   "source": [
    "#The number of sampels in the train set is m:\n",
    "m = X_train.shape[0]\n",
    "#The size of the image is size:\n",
    "size = X_train.shape[1]\n",
    "# h is the height of the image (in our case h=w, since our image is a square):\n",
    "h = int(math.sqrt(size))\n",
    "\n",
    "#Now I reshape the data:\n",
    "X_train = X_train.reshape(m,h,h,1)\n",
    "\n",
    "print(\"Now X-train shape is:\", X_train.shape)"
   ]
  },
  {
   "cell_type": "code",
   "execution_count": 31,
   "metadata": {},
   "outputs": [],
   "source": [
    "# Normalize image vectors\n",
    "X_train = X_train/255."
   ]
  },
  {
   "cell_type": "code",
   "execution_count": 32,
   "metadata": {},
   "outputs": [
    {
     "name": "stdout",
     "output_type": "stream",
     "text": [
      "[1. 0. 1. ... 7. 6. 9.]\n"
     ]
    }
   ],
   "source": [
    "print(Y_train)"
   ]
  },
  {
   "cell_type": "code",
   "execution_count": 33,
   "metadata": {},
   "outputs": [
    {
     "name": "stdout",
     "output_type": "stream",
     "text": [
      "(42000, 10) [0. 1. 0. 0. 0. 0. 0. 0. 0. 0.]\n"
     ]
    }
   ],
   "source": [
    "\n",
    "# encode Y_train labels to One-hot vectors:\n",
    "labels = Y_train.reshape(-1).astype(int)\n",
    "Y_train = np.eye(10)[labels]\n",
    "print(Y_train.shape, Y_train[0])"
   ]
  },
  {
   "cell_type": "markdown",
   "metadata": {},
   "source": [
    "I would like to create at this stage a validation set and a train set from the X_train and Y_train:"
   ]
  },
  {
   "cell_type": "code",
   "execution_count": 34,
   "metadata": {},
   "outputs": [
    {
     "name": "stdout",
     "output_type": "stream",
     "text": [
      "(33600, 28, 28, 1) (33600, 10)\n",
      "(8400, 28, 28, 1) (8400, 10)\n"
     ]
    }
   ],
   "source": [
    "from sklearn.cross_validation import train_test_split\n",
    "\n",
    "X_train, X_val, Y_train, Y_val = train_test_split(X_train, Y_train, test_size=0.2)\n",
    "print (X_train.shape, Y_train.shape)\n",
    "print (X_val.shape, Y_val.shape)"
   ]
  },
  {
   "cell_type": "markdown",
   "metadata": {},
   "source": [
    "# The LeNet architecture\n",
    "![Figure 2: The LeNet architecture consists of two sets of convolutional, activation, and pooling layers, followed by a fully-connected layer, activation, another fully-connected, and finally a softmax classifier (image source).](images/LeNet.png)\n",
    "\n",
    "\n",
    "The LeNet architecture is an excellent “first architecture” for Convolutional Neural Networks (especially when trained on the MNIST dataset, an image dataset for handwritten digit recognition).\n",
    "LeNet is small and easy to understand — yet large enough to provide interesting results. Furthermore, the combination of LeNet + MNIST is able to run on the CPU, making it easy for beginners to take their first step in Deep Learning and Convolutional Neural Networks.\n",
    "In many ways, LeNet + MNIST is the “Hello, World” equivalent of Deep Learning for image classification.\n",
    "The LeNet architecture consists of the following layers:\n",
    "\n",
    "### LeNet - Convolutional Neural Network in Python\n",
    "\n",
    "INPUT => CONV => RELU => POOL => CONV => RELU => POOL => FC => RELU => FC\n",
    "\n",
    "\n",
    "Note: The original LeNet architecture used TANH  activation functions rather than RELU . The reason we use RELU  here is because it tends to give much better classification accuracy due to a number of nice, desirable properties."
   ]
  },
  {
   "cell_type": "code",
   "execution_count": 35,
   "metadata": {},
   "outputs": [],
   "source": [
    "def DigitRecognizerModel(input_shape, classes = 10):\n",
    "    \"\"\"\n",
    "    Implementation of the Lenet model for digit recognition.\n",
    "    \n",
    "    Arguments:\n",
    "    input_shape -- shape of the images of the dataset\n",
    "\n",
    "    Returns:\n",
    "    model -- a Model() instance in Keras\n",
    "    \"\"\"\n",
    "    #Define the input placeholder as a tensor with shape input_shape.\n",
    "    X_input = Input(input_shape)\n",
    "    \n",
    "    #First layer of conv=> Relu=> Pool:\n",
    "    # Conv1 layer\n",
    "    X = Conv2D(20, (5,5), name='conv1')(X_input)\n",
    "    #Relu1:\n",
    "    X = Activation('relu')(X)\n",
    "    # MAXPOOL1\n",
    "    X = MaxPooling2D(pool_size=(2, 2), strides= (2,2), name='maxpool1')(X)\n",
    "    \n",
    "    #Second layer of conv=> Relu=> Pool:\n",
    "    # Conv2 layer\n",
    "    X = Conv2D(50, (5,5), name='conv2') (X_input)\n",
    "    #Relu2:\n",
    "    X = Activation('relu')(X)\n",
    "    # MAXPOOL2\n",
    "    X = MaxPooling2D(pool_size=(2, 2), strides= (2,2), name='maxpool2')(X)\n",
    "    \n",
    "    #Set of FC=> Relu layers:\n",
    "    X = Flatten()(X)\n",
    "    #X = Dense(600)(X)\n",
    "    #X = Activation('relu')(X)\n",
    "    \n",
    "    #Softmax Classifier:\n",
    "    output = Dense(classes, activation='softmax', name='fc')(X)\n",
    "    #output = Activation('softmax', )(X)\n",
    "\n",
    "    # Create model.\n",
    "    model = Model(inputs = X_input, outputs = output, name='DigitRecognizerModel')\n",
    "\n",
    "    return model "
   ]
  },
  {
   "cell_type": "markdown",
   "metadata": {},
   "source": [
    "Let's create the model using the function above:"
   ]
  },
  {
   "cell_type": "code",
   "execution_count": 36,
   "metadata": {},
   "outputs": [],
   "source": [
    "DigitRecognizerModel = DigitRecognizerModel([28, 28, 1])"
   ]
  },
  {
   "cell_type": "code",
   "execution_count": 37,
   "metadata": {},
   "outputs": [],
   "source": [
    "DigitRecognizerModel.compile(optimizer = \"Adam\", loss = 'categorical_crossentropy', metrics = [\"accuracy\"])"
   ]
  },
  {
   "cell_type": "code",
   "execution_count": 38,
   "metadata": {},
   "outputs": [
    {
     "name": "stdout",
     "output_type": "stream",
     "text": [
      "Epoch 1/40\n",
      "33600/33600 [==============================] - 26s 784us/step - loss: 0.5816 - acc: 0.8420\n",
      "Epoch 2/40\n",
      "33600/33600 [==============================] - 27s 806us/step - loss: 0.2052 - acc: 0.9419\n",
      "Epoch 3/40\n",
      "33600/33600 [==============================] - 25s 741us/step - loss: 0.1319 - acc: 0.9632\n",
      "Epoch 4/40\n",
      "33600/33600 [==============================] - 25s 731us/step - loss: 0.0958 - acc: 0.9734\n",
      "Epoch 5/40\n",
      "33600/33600 [==============================] - 26s 761us/step - loss: 0.0782 - acc: 0.9787\n",
      "Epoch 6/40\n",
      "33600/33600 [==============================] - 25s 736us/step - loss: 0.0647 - acc: 0.9823\n",
      "Epoch 7/40\n",
      "33600/33600 [==============================] - 25s 749us/step - loss: 0.0569 - acc: 0.9842\n",
      "Epoch 8/40\n",
      "33600/33600 [==============================] - 25s 754us/step - loss: 0.0518 - acc: 0.9858\n",
      "Epoch 9/40\n",
      "33600/33600 [==============================] - 25s 754us/step - loss: 0.0468 - acc: 0.9866\n",
      "Epoch 10/40\n",
      "33600/33600 [==============================] - 25s 754us/step - loss: 0.0421 - acc: 0.9881\n",
      "Epoch 11/40\n",
      "33600/33600 [==============================] - 25s 756us/step - loss: 0.0380 - acc: 0.9895\n",
      "Epoch 12/40\n",
      "33600/33600 [==============================] - 25s 756us/step - loss: 0.0350 - acc: 0.9901\n",
      "Epoch 13/40\n",
      "33600/33600 [==============================] - 25s 752us/step - loss: 0.0314 - acc: 0.9913\n",
      "Epoch 14/40\n",
      "33600/33600 [==============================] - 25s 752us/step - loss: 0.0295 - acc: 0.9920\n",
      "Epoch 15/40\n",
      "33600/33600 [==============================] - 25s 758us/step - loss: 0.0265 - acc: 0.9926\n",
      "Epoch 16/40\n",
      "33600/33600 [==============================] - 25s 750us/step - loss: 0.0258 - acc: 0.9930\n",
      "Epoch 17/40\n",
      "33600/33600 [==============================] - 25s 738us/step - loss: 0.0241 - acc: 0.9929\n",
      "Epoch 18/40\n",
      "33600/33600 [==============================] - 25s 746us/step - loss: 0.0220 - acc: 0.9942\n",
      "Epoch 19/40\n",
      "33600/33600 [==============================] - 25s 745us/step - loss: 0.0212 - acc: 0.9942\n",
      "Epoch 20/40\n",
      "33600/33600 [==============================] - 25s 751us/step - loss: 0.0194 - acc: 0.9949\n",
      "Epoch 21/40\n",
      "33600/33600 [==============================] - 25s 748us/step - loss: 0.0171 - acc: 0.9959\n",
      "Epoch 22/40\n",
      "33600/33600 [==============================] - 24s 726us/step - loss: 0.0165 - acc: 0.9959\n",
      "Epoch 23/40\n",
      "33600/33600 [==============================] - 25s 755us/step - loss: 0.0153 - acc: 0.9964\n",
      "Epoch 24/40\n",
      "33600/33600 [==============================] - 24s 718us/step - loss: 0.0139 - acc: 0.9971\n",
      "Epoch 25/40\n",
      "33600/33600 [==============================] - 24s 726us/step - loss: 0.0139 - acc: 0.9968\n",
      "Epoch 26/40\n",
      "33600/33600 [==============================] - 25s 749us/step - loss: 0.0128 - acc: 0.9972\n",
      "Epoch 27/40\n",
      "33600/33600 [==============================] - 24s 729us/step - loss: 0.0111 - acc: 0.9981\n",
      "Epoch 28/40\n",
      "33600/33600 [==============================] - 24s 712us/step - loss: 0.0112 - acc: 0.9977\n",
      "Epoch 29/40\n",
      "33600/33600 [==============================] - 24s 716us/step - loss: 0.0098 - acc: 0.9984\n",
      "Epoch 30/40\n",
      "33600/33600 [==============================] - 24s 728us/step - loss: 0.0093 - acc: 0.9981\n",
      "Epoch 31/40\n",
      "33600/33600 [==============================] - 24s 728us/step - loss: 0.0087 - acc: 0.9985\n",
      "Epoch 32/40\n",
      "33600/33600 [==============================] - 25s 729us/step - loss: 0.0079 - acc: 0.9988\n",
      "Epoch 33/40\n",
      "33600/33600 [==============================] - 24s 724us/step - loss: 0.0073 - acc: 0.9988\n",
      "Epoch 34/40\n",
      "33600/33600 [==============================] - 25s 743us/step - loss: 0.0068 - acc: 0.9993\n",
      "Epoch 35/40\n",
      "33600/33600 [==============================] - 25s 744us/step - loss: 0.0071 - acc: 0.9988\n",
      "Epoch 36/40\n",
      "33600/33600 [==============================] - 25s 740us/step - loss: 0.0059 - acc: 0.9993\n",
      "Epoch 37/40\n",
      "33600/33600 [==============================] - 24s 729us/step - loss: 0.0061 - acc: 0.9991\n",
      "Epoch 38/40\n",
      "33600/33600 [==============================] - 25s 732us/step - loss: 0.0055 - acc: 0.9995\n",
      "Epoch 39/40\n",
      "33600/33600 [==============================] - 25s 749us/step - loss: 0.0049 - acc: 0.9994\n",
      "Epoch 40/40\n",
      "33600/33600 [==============================] - 25s 739us/step - loss: 0.0047 - acc: 0.9995\n"
     ]
    },
    {
     "data": {
      "text/plain": [
       "<keras.callbacks.History at 0x27f9a0e4a20>"
      ]
     },
     "execution_count": 38,
     "metadata": {},
     "output_type": "execute_result"
    }
   ],
   "source": [
    "DigitRecognizerModel.fit(x = X_train, y = Y_train, epochs = 40, batch_size = 336)"
   ]
  },
  {
   "cell_type": "code",
   "execution_count": 39,
   "metadata": {},
   "outputs": [
    {
     "name": "stdout",
     "output_type": "stream",
     "text": [
      "8400/8400 [==============================] - 2s 284us/step\n",
      "\n",
      "Loss = 0.06130497150397527\n",
      "Test Accuracy = 0.9840476190476191\n"
     ]
    }
   ],
   "source": [
    "preds = DigitRecognizerModel.evaluate(x = X_val, y = Y_val)\n",
    "### END CODE HERE ###\n",
    "print()\n",
    "print (\"Loss = \" + str(preds[0]))\n",
    "print (\"Test Accuracy = \" + str(preds[1]))"
   ]
  },
  {
   "cell_type": "markdown",
   "metadata": {},
   "source": [
    "# Predictions on the test set:\n",
    "That's pretty good! Now let's generate the submission file (predictions on the test set):"
   ]
  },
  {
   "cell_type": "code",
   "execution_count": 40,
   "metadata": {},
   "outputs": [
    {
     "name": "stdout",
     "output_type": "stream",
     "text": [
      "Now X-train shape is: (28000, 28, 28, 1)\n"
     ]
    }
   ],
   "source": [
    "X_test = test[1:,:]\n",
    "\n",
    "#The number of sampels in the train set is m:\n",
    "m = X_test.shape[0]\n",
    "#The size of the image is size:\n",
    "size = X_test.shape[1]\n",
    "# h is the height of the image (in our case h=w, since our image is a square):\n",
    "h = int(math.sqrt(size))\n",
    "\n",
    "#Now I reshape the data:\n",
    "X_test = X_test.reshape(m,h,h,1)\n",
    "\n",
    "print(\"Now X-train shape is:\", X_test.shape)"
   ]
  },
  {
   "cell_type": "code",
   "execution_count": 41,
   "metadata": {},
   "outputs": [],
   "source": [
    "# Normalize image vectors\n",
    "X_test = X_test/255."
   ]
  },
  {
   "cell_type": "code",
   "execution_count": 51,
   "metadata": {},
   "outputs": [
    {
     "name": "stdout",
     "output_type": "stream",
     "text": [
      "(28000, 10)\n"
     ]
    }
   ],
   "source": [
    "#Predict results\n",
    "test_preds = DigitRecognizerModel.predict(x = X_test)\n",
    "print(test_preds.shape)"
   ]
  },
  {
   "cell_type": "code",
   "execution_count": 55,
   "metadata": {},
   "outputs": [],
   "source": [
    "#Select the index with the maximum probability:\n",
    "test_labels = np.argmax(test_preds, axis=1)\n",
    "test_labels = pd.Series(test_labels, name='Label')"
   ]
  },
  {
   "cell_type": "code",
   "execution_count": 56,
   "metadata": {},
   "outputs": [],
   "source": [
    "submission = pd.concat([pd.Series(range(1,28001), name = \"ImageId\"), test_labels], axis = 1)\n",
    "submission.to_csv(\"cnn_submission.csv\", index=False)"
   ]
  },
  {
   "cell_type": "code",
   "execution_count": null,
   "metadata": {},
   "outputs": [],
   "source": []
  }
 ],
 "metadata": {
  "kernelspec": {
   "display_name": "Python 3",
   "language": "python",
   "name": "python3"
  },
  "language_info": {
   "codemirror_mode": {
    "name": "ipython",
    "version": 3
   },
   "file_extension": ".py",
   "mimetype": "text/x-python",
   "name": "python",
   "nbconvert_exporter": "python",
   "pygments_lexer": "ipython3",
   "version": "3.6.4"
  }
 },
 "nbformat": 4,
 "nbformat_minor": 1
}
